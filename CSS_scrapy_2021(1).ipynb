{
  "nbformat": 4,
  "nbformat_minor": 0,
  "metadata": {
    "colab": {
      "name": "CSS-scrapy-2021.ipynb",
      "provenance": [],
      "collapsed_sections": []
    },
    "kernelspec": {
      "name": "python3",
      "display_name": "Python 3"
    },
    "language_info": {
      "name": "python"
    }
  },
  "cells": [
    {
      "cell_type": "code",
      "metadata": {
        "id": "nbj8LWVlp_19"
      },
      "source": [
        "#to install scrapy package\n",
        "!pip install scrapy"
      ],
      "execution_count": null,
      "outputs": []
    },
    {
      "cell_type": "code",
      "metadata": {
        "id": "EmtkN_iwrXLq"
      },
      "source": [
        "from scrapy import Selector"
      ],
      "execution_count": null,
      "outputs": []
    },
    {
      "cell_type": "code",
      "metadata": {
        "id": "hmpxOBA5qEDm"
      },
      "source": [
        "html = '''\n",
        "<html>\n",
        "  <body>\n",
        "    <div class = \"class-intro\">\n",
        "      <p>\"Hello CSS\"</p>\n",
        "      <p>\"Hello Python\"</p>\n",
        "    </div>\n",
        "    <div class = \"class-intro\">\n",
        "      <p>\"Hello scrapy\"</p>\n",
        "      <p>\"Hello sipder\"</p>\n",
        "    </div>\n",
        "    <div class = \"class-intro2\">\n",
        "      <p>\"Hello TTC3213\"</p>\n",
        "    </div>\n",
        "    <p id=\"p-example\">\n",
        "      Hello world!\n",
        "      Try <a href=\"http://www.datacamp.com\">DataCamp</a> today!\n",
        "    </p>\n",
        "  </body>\n",
        "</html>\n",
        "'''\n",
        "sel = Selector (text = html)"
      ],
      "execution_count": null,
      "outputs": []
    },
    {
      "cell_type": "code",
      "metadata": {
        "colab": {
          "base_uri": "https://localhost:8080/"
        },
        "id": "r2miAbDN0joq",
        "outputId": "7d95df28-ccd8-4b9b-d6c5-cfaff2f4bfc0"
      },
      "source": [
        "#look forward one generation\n",
        "sel.css('div> p').extract()"
      ],
      "execution_count": null,
      "outputs": [
        {
          "output_type": "execute_result",
          "data": {
            "text/plain": [
              "['<p>\"Hello CSS\"</p>', '<p>\"Hello Python\"</p>', '<p>\"Hello TTC3213\"</p>']"
            ]
          },
          "metadata": {},
          "execution_count": 45
        }
      ]
    },
    {
      "cell_type": "code",
      "metadata": {
        "colab": {
          "base_uri": "https://localhost:8080/"
        },
        "id": "NG_HWxye1vnI",
        "outputId": "a3ddf82f-4276-4560-d068-0fdb9a3c9d8d"
      },
      "source": [
        "#choose specific element\n",
        "sel.css('div > p:nth-of-type(2)').extract()"
      ],
      "execution_count": null,
      "outputs": [
        {
          "output_type": "execute_result",
          "data": {
            "text/plain": [
              "['<p>\"Hello Python\"</p>']"
            ]
          },
          "metadata": {},
          "execution_count": 47
        }
      ]
    },
    {
      "cell_type": "code",
      "metadata": {
        "colab": {
          "base_uri": "https://localhost:8080/"
        },
        "id": "BijhMYU8q6eK",
        "outputId": "207affe0-b997-4c1c-99eb-67fd5c232e6c"
      },
      "source": [
        "#look forward to all chidren\n",
        "sel.css(' p').extract()"
      ],
      "execution_count": null,
      "outputs": [
        {
          "output_type": "execute_result",
          "data": {
            "text/plain": [
              "['<p>\"Hello CSS\"</p>',\n",
              " '<p>\"Hello Python\"</p>',\n",
              " '<p>\"Hello TTC3213\"</p>',\n",
              " '<p id=\"p-example\">\\n      Hello world!\\n      Try <a href=\"http://www.datacamp.com\">DataCamp</a> today!\\n    </p>']"
            ]
          },
          "metadata": {},
          "execution_count": 48
        }
      ]
    },
    {
      "cell_type": "code",
      "metadata": {
        "colab": {
          "base_uri": "https://localhost:8080/"
        },
        "id": "ciI4UwEpxXnD",
        "outputId": "2c98de97-5aa2-4116-deb2-52fcdc384926"
      },
      "source": [
        "#choose paragraph element by id\n",
        "sel.css('p#p-example').extract()"
      ],
      "execution_count": null,
      "outputs": [
        {
          "output_type": "execute_result",
          "data": {
            "text/plain": [
              "['<p id=\"p-example\">\\n      Hello world!\\n      Try <a href=\"http://www.datacamp.com\">DataCamp</a> today!\\n    </p>']"
            ]
          },
          "metadata": {},
          "execution_count": 49
        }
      ]
    },
    {
      "cell_type": "code",
      "metadata": {
        "colab": {
          "base_uri": "https://localhost:8080/"
        },
        "id": "XxN2_JGizIyX",
        "outputId": "e5880ee8-d63e-46d2-ff75-e96de16570b4"
      },
      "source": [
        "#extract text from element\n",
        "sel.css('p#p-example::text').extract()"
      ],
      "execution_count": null,
      "outputs": [
        {
          "output_type": "execute_result",
          "data": {
            "text/plain": [
              "['\\n      Hello world!\\n      Try ', ' today!\\n    ']"
            ]
          },
          "metadata": {},
          "execution_count": 50
        }
      ]
    },
    {
      "cell_type": "code",
      "metadata": {
        "colab": {
          "base_uri": "https://localhost:8080/"
        },
        "id": "zsk085JSUzVA",
        "outputId": "36fd8ad6-7eab-40d1-9870-77223e1fdfde"
      },
      "source": [
        "sel.css('div.class-intro').extract()"
      ],
      "execution_count": null,
      "outputs": [
        {
          "output_type": "execute_result",
          "data": {
            "text/plain": [
              "['\"Hello CSS\"', '\"Hello Python\"', '\"Hello scrapy\"', '\"Hello sipder\"']"
            ]
          },
          "metadata": {},
          "execution_count": 65
        }
      ]
    }
  ]
}