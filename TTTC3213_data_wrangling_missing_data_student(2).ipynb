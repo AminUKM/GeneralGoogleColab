{
  "nbformat": 4,
  "nbformat_minor": 0,
  "metadata": {
    "anaconda-cloud": {},
    "kernelspec": {
      "display_name": "Python 3",
      "language": "python",
      "name": "python3"
    },
    "language_info": {
      "codemirror_mode": {
        "name": "ipython",
        "version": 3
      },
      "file_extension": ".py",
      "mimetype": "text/x-python",
      "name": "python",
      "nbconvert_exporter": "python",
      "pygments_lexer": "ipython3",
      "version": "3.5.2"
    },
    "colab": {
      "name": "TTTC3213_data_wrangling_missing_data_student.ipynb",
      "provenance": [],
      "collapsed_sections": []
    }
  },
  "cells": [
    {
      "cell_type": "markdown",
      "metadata": {
        "id": "PljTeu41BKUc"
      },
      "source": [
        " <a href=\"https://www.bigdatauniversity.com\"><img src = \"https://ibm.box.com/shared/static/ugcqz6ohbvff804xp84y4kqnvvk3bq1g.png\" width = 300, align = \"center\"></a>\n",
        "\n",
        "<h1 align=center><font size = 5>Data Analysis with Python</font></h1>"
      ]
    },
    {
      "cell_type": "markdown",
      "metadata": {
        "id": "8SCgGVEcBKUd"
      },
      "source": [
        "# Data Wrangling"
      ]
    },
    {
      "cell_type": "markdown",
      "metadata": {
        "id": "21NnNcz7BKUe"
      },
      "source": [
        "### Welcome!\n",
        "\n",
        "By the end of this notebook, you will have learned the basics of Data Wrangling! "
      ]
    },
    {
      "cell_type": "markdown",
      "metadata": {
        "id": "JYusA8K2BKUf"
      },
      "source": [
        "## Table of contents\n",
        "\n",
        "<div class=\"alert alert-block alert-info\" style=\"margin-top: 20px\">\n",
        "<li><a href=\"#ref1\">Identify and handle missing values</a>\n",
        "<ul><div><a href=\"#ref2\">- Identify missing values</a></div>\n",
        "<div><a href=\"#ref3\">- Deal with missing values</a></div>\n",
        "<div><a href=\"#ref4\">- Correct data format</a></div></ul></li>\n",
        "<p></p>\n",
        "<p></p>\n",
        "</div>\n",
        " \n",
        "<hr>"
      ]
    },
    {
      "cell_type": "markdown",
      "metadata": {
        "id": "53vgtg4TBKUf"
      },
      "source": [
        "## What is the purpose of Data Wrangling?"
      ]
    },
    {
      "cell_type": "markdown",
      "metadata": {
        "id": "E_b7aczFBKUg"
      },
      "source": [
        "Data Wrangling is the process of converting data from the initial format to a format that may be better for analysis."
      ]
    },
    {
      "cell_type": "markdown",
      "metadata": {
        "id": "husF2Qn_BKUi"
      },
      "source": [
        "### Import data\n",
        "\n",
        "You can find the \"Automobile Data Set\" from the following link: https://archive.ics.uci.edu/ml/machine-learning-databases/autos/imports-85.data. We will be using this data set throughout this course.\n"
      ]
    },
    {
      "cell_type": "markdown",
      "metadata": {
        "id": "KzA2fen4BKUj"
      },
      "source": [
        "#### Import pandas "
      ]
    },
    {
      "cell_type": "code",
      "metadata": {
        "id": "OopWzebDBKUj"
      },
      "source": [
        "import pandas as pd"
      ],
      "execution_count": null,
      "outputs": []
    },
    {
      "cell_type": "markdown",
      "metadata": {
        "id": "QhAzgdZsBKUo"
      },
      "source": [
        "## Reading the data set from the URL and adding the related headers."
      ]
    },
    {
      "cell_type": "markdown",
      "metadata": {
        "id": "y4JoFU6mBKUq"
      },
      "source": [
        "#### URL of dataset"
      ]
    },
    {
      "cell_type": "code",
      "metadata": {
        "id": "b5y8bkOrBKUr"
      },
      "source": [
        "filename = 'https://archive.ics.uci.edu/ml/machine-learning-databases/autos/imports-85.data'"
      ],
      "execution_count": null,
      "outputs": []
    },
    {
      "cell_type": "markdown",
      "metadata": {
        "id": "KevAmNgYBKUt"
      },
      "source": [
        " Python list \"headers\" containing name of headers "
      ]
    },
    {
      "cell_type": "code",
      "metadata": {
        "id": "3ldi0X-oBKUu"
      },
      "source": [
        "headers = [\"symboling\",\"normalized-losses\",\"make\",\"fuel-type\",\"aspiration\", \"num-of-doors\",\"body-style\",\n",
        "         \"drive-wheels\",\"engine-location\",\"wheel-base\", \"length\",\"width\",\"height\",\"curb-weight\",\"engine-type\",\n",
        "         \"num-of-cylinders\", \"engine-size\",\"fuel-system\",\"bore\",\"stroke\",\"compression-ratio\",\"horsepower\",\n",
        "         \"peak-rpm\",\"city-mpg\",\"highway-mpg\",\"price\"]"
      ],
      "execution_count": null,
      "outputs": []
    },
    {
      "cell_type": "markdown",
      "metadata": {
        "id": "g6CBWvFGBKUx"
      },
      "source": [
        "Use the Pandas method **read_csv()** to load the data from the web address. Set the parameter  \"names\" equal to the Python list \"headers\"."
      ]
    },
    {
      "cell_type": "code",
      "metadata": {
        "id": "pf671DeUBKUy"
      },
      "source": [
        "df = pd.read_csv(filename, names = headers)\n",
        "print(\"Done\")"
      ],
      "execution_count": null,
      "outputs": []
    },
    {
      "cell_type": "markdown",
      "metadata": {
        "id": "7SHU88BRBKU0"
      },
      "source": [
        " Use the method **head()** to display the first five rows of the dataframe. "
      ]
    },
    {
      "cell_type": "code",
      "metadata": {
        "id": "GW6h5QhVBKU1"
      },
      "source": [
        "# To see what the data set looks like, we'll use the head() method.\n",
        "df.head()"
      ],
      "execution_count": null,
      "outputs": []
    },
    {
      "cell_type": "markdown",
      "metadata": {
        "id": "GAVmoc59BKU3"
      },
      "source": [
        "As we can see, several question marks appeared in the dataframe; those are missing values which may hinder our further analysis. \n",
        "<div>So, how do we identify all those missing values and deal with them?</div> \n",
        "\n",
        "\n",
        "**How to work with missing data:**\n",
        "\n",
        "Steps for working with missing data:\n",
        "1. Identify missing data\n",
        "2. Deal with missing data\n",
        "3. Correct data format"
      ]
    },
    {
      "cell_type": "markdown",
      "metadata": {
        "id": "HCmx54w3BKU4"
      },
      "source": [
        "<a id=\"ref1\"></a>\n",
        "# 1. Identify and handle missing values\n",
        "\n",
        "\n",
        "<a id=\"ref2\"></a>\n",
        "### Convert \"?\" to NaN\n",
        "In the car dataset, missing data comes with the question mark \"?\".\n",
        "We replace \"?\" with NaN (Not a Number), which is Python's default missing value marker, for reasons of computational speed and convenience. Here we use the function: \n",
        " <pre>.replace(A, B, inplace = True) </pre>\n",
        "to replace A by B"
      ]
    },
    {
      "cell_type": "code",
      "metadata": {
        "id": "aGvFKQbZBKU5"
      },
      "source": [
        "import numpy as np\n",
        "\n",
        "# replace \"?\" to NaN\n",
        "df.replace(\"?\", np.nan, inplace = True)\n",
        "df.head(5)"
      ],
      "execution_count": null,
      "outputs": []
    },
    {
      "cell_type": "markdown",
      "metadata": {
        "id": "TfTjborwBKU7"
      },
      "source": [
        "### Evaluating for Missing Data\n",
        "\n",
        "The missing values are converted to Python's default. We use Python's built-in functions to identify these missing values. There are two methods to detect missing data:\n",
        "1.  **.isnull()**\n",
        "2.  **.notnull()**\n",
        "\n",
        "The output is a boolean value indicating whether the dataframe is missing data."
      ]
    },
    {
      "cell_type": "code",
      "metadata": {
        "id": "cNCQ1K0KBKU8"
      },
      "source": [
        "missing_data = df.isnull()\n",
        "missing_data.head(5)"
      ],
      "execution_count": null,
      "outputs": []
    },
    {
      "cell_type": "markdown",
      "metadata": {
        "id": "inEGyPWRBKU-"
      },
      "source": [
        "\"True\" stands for missing value, while \"False\" stands for not missing value."
      ]
    },
    {
      "cell_type": "markdown",
      "metadata": {
        "id": "emaOfNJ9BKU_"
      },
      "source": [
        "### Count missing values in each column\n",
        "Using a for loop in Python, we can quickly figure out the number of missing values in each column. As mentioned above, \"True\" represents a missing value, \"False\"  means the value is present in the dataset.  In the body of the for loop the method  \".value_couts()\"  counts the number of \"True\" values. "
      ]
    },
    {
      "cell_type": "code",
      "metadata": {
        "id": "uNMeSjfNBKVA"
      },
      "source": [
        "for column in missing_data.columns.values.tolist():\n",
        "    print(column)\n",
        "    print (missing_data[column].value_counts())\n",
        "    print(\"\")    "
      ],
      "execution_count": null,
      "outputs": []
    },
    {
      "cell_type": "markdown",
      "metadata": {
        "id": "3EktsAaSBKVC"
      },
      "source": [
        "<h1> Lab-tutorial-1: </h1>\n",
        "Based on the summary above, each column has 205 rows of data, with seven columns containing missing data:<br>\n",
        "\n",
        "Name the missing column and how many data are missing for each column?<br>\n",
        "**ANSWERS:**\n",
        "\n",
        "1. \"normalized-losses\": 41 missing data\n",
        "2. ?\n",
        "3. ?\n",
        "4. ?\n",
        "5. ?\n",
        "6. ?\n",
        "7. ?"
      ]
    },
    {
      "cell_type": "markdown",
      "metadata": {
        "id": "cQ_q9CVdBKVD"
      },
      "source": [
        "<a id=\"ref3\"></a>\n",
        "## Deal with missing data\n",
        "**How to deal with missing data:**\n",
        "\n",
        "    \n",
        "    1. Drop data \n",
        "        a. drop the whole row\n",
        "        b. drop the whole column\n",
        "    2. Replace data\n",
        "        a. replace it by mean\n",
        "        b. replace it by frequency\n",
        "        c. replace it based on other functions"
      ]
    },
    {
      "cell_type": "markdown",
      "metadata": {
        "id": "08ZoPbvJBKVD"
      },
      "source": [
        "Whole columns should be dropped only if most entries in the column are empty. \n",
        "\n",
        "In our dataset, none of the columns are empty enough to drop entirely.\n",
        "\n",
        "We have some freedom in choosing which method to replace data; however, some methods may seem more reasonable than others. We will apply each method to many different columns:\n",
        "\n",
        "**Replace by mean:**\n",
        "\n",
        "    \"normalized-losses\"\n",
        "    \"stroke\"\n",
        "    \"bore\"\n",
        "    \"horsepower\"\n",
        "    \"peak-rpm\"\n",
        "    \n",
        "**Replace by frequency:**\n",
        "\n",
        "    \"num-of-doors\": 2 missing data, replace them with \"four\". \n",
        "        * Reason: 84% sedans is four doors. Since four doors is most frequent, it is most likely to \n",
        "    \n",
        "\n",
        "**Drop the whole row:**\n",
        "\n",
        "    \"price\": 4 missing data, simply delete the whole row\n",
        "        * Reason: price is what we want to predict. Any data entry without price data cannot be used for prediction; therefore they are not useful to us"
      ]
    },
    {
      "cell_type": "markdown",
      "metadata": {
        "id": "PuaL0EMZBKVE"
      },
      "source": [
        "#### Calculate the average of the column:"
      ]
    },
    {
      "cell_type": "code",
      "metadata": {
        "id": "fg2lJEdjBKVE"
      },
      "source": [
        "avg_1 = df[\"normalized-losses\"].astype(\"float\").mean(axis = 0)"
      ],
      "execution_count": null,
      "outputs": []
    },
    {
      "cell_type": "markdown",
      "metadata": {
        "id": "os7Jx5vHBKVG"
      },
      "source": [
        "#### Replace \"NaN\" by mean value in \"normalized-losses\" column:"
      ]
    },
    {
      "cell_type": "code",
      "metadata": {
        "id": "WfgWzi3_BKVH"
      },
      "source": [
        "df[\"normalized-losses\"].replace(np.nan, avg_1, inplace = True)"
      ],
      "execution_count": null,
      "outputs": []
    },
    {
      "cell_type": "markdown",
      "metadata": {
        "id": "qCdaU3W9BKVJ"
      },
      "source": [
        "#### Calculate the mean value for 'bore' column:"
      ]
    },
    {
      "cell_type": "code",
      "metadata": {
        "id": "Mb_J1mlXBKVK"
      },
      "source": [
        "avg_2=df['bore'].astype('float').mean(axis=0)"
      ],
      "execution_count": null,
      "outputs": []
    },
    {
      "cell_type": "markdown",
      "metadata": {
        "id": "WFx-HHT7BKVN"
      },
      "source": [
        "#### Replace NaN by mean value:"
      ]
    },
    {
      "cell_type": "code",
      "metadata": {
        "id": "re5Tqa53BKVO"
      },
      "source": [
        "df['bore'].replace(np.nan, avg_2, inplace= True)"
      ],
      "execution_count": null,
      "outputs": []
    },
    {
      "cell_type": "markdown",
      "metadata": {
        "id": "pE2K25SoBKVU"
      },
      "source": [
        "<div class=\"alert alert-danger alertdanger\" style=\"margin-top: 20px\">\n",
        "<h1> Lab-tutorial-2 (estimated time 5 to 10 minutes): </h1>\n",
        "\n",
        "<b>According to the example above:</b>\n",
        "</div>"
      ]
    },
    {
      "cell_type": "markdown",
      "metadata": {
        "id": "DLMQliUGd2Xu"
      },
      "source": [
        "<b> Question 1</b>: Calculate the mean value for 'stroke' column and replace NaN in \"stroke\" column by mean: <br>"
      ]
    },
    {
      "cell_type": "code",
      "metadata": {
        "id": "0hDYU55TBKVX"
      },
      "source": [
        "#your code start here:\n",
        "avg_3= ....\n",
        "df['stroke'].replace(.....)"
      ],
      "execution_count": null,
      "outputs": []
    },
    {
      "cell_type": "markdown",
      "metadata": {
        "id": "jHdenP1bBKVa"
      },
      "source": [
        " <b> Question 2</b>: Calculate the mean value for the 'horsepower' column and replace  \"NaN\" by mean value : <br>\n",
        "\n"
      ]
    },
    {
      "cell_type": "code",
      "metadata": {
        "id": "IegnqrjeBKVa"
      },
      "source": [
        "avg_4=....\n",
        "df['horsepower'].replace...."
      ],
      "execution_count": null,
      "outputs": []
    },
    {
      "cell_type": "markdown",
      "metadata": {
        "id": "m312WXoeBKVe"
      },
      "source": [
        " <b> Question 3</b>: Calculate the mean value for the 'peak-rpm' column and replace  \"NaN\" by mean value : <br>"
      ]
    },
    {
      "cell_type": "code",
      "metadata": {
        "id": "fS-482SQBKVf"
      },
      "source": [
        "avg_5=....\n",
        "df['peak-rpm'].replace...."
      ],
      "execution_count": null,
      "outputs": []
    },
    {
      "cell_type": "markdown",
      "metadata": {
        "id": "1grWa4oYBKVi"
      },
      "source": [
        "To see which values are present in a particular column, we can use the \".value_counts()\" method:"
      ]
    },
    {
      "cell_type": "code",
      "metadata": {
        "id": "ldpH5GTLBKVj"
      },
      "source": [
        "df['num-of-doors'].value_counts()"
      ],
      "execution_count": null,
      "outputs": []
    },
    {
      "cell_type": "markdown",
      "metadata": {
        "id": "29D9SeQeBKVk"
      },
      "source": [
        "We can see that four doors are the most common type. We can also use the \".idxmax()\" method to automatically calculate the most common type:"
      ]
    },
    {
      "cell_type": "code",
      "metadata": {
        "id": "qr-Bty-6BKVl"
      },
      "source": [
        "df['num-of-doors'].value_counts().idxmax()"
      ],
      "execution_count": null,
      "outputs": []
    },
    {
      "cell_type": "markdown",
      "metadata": {
        "id": "gHZnlfwvBKVn"
      },
      "source": [
        "The replacement procedure is very similar to what we have seen previously:"
      ]
    },
    {
      "cell_type": "code",
      "metadata": {
        "id": "5OSuuycDBKVo"
      },
      "source": [
        "#replace the missing 'num-of-doors' values by the most frequent \n",
        "df[\"num-of-doors\"].replace(np.nan, \"four\", inplace = True)"
      ],
      "execution_count": null,
      "outputs": []
    },
    {
      "cell_type": "markdown",
      "metadata": {
        "id": "bFifdcnEBKVq"
      },
      "source": [
        "Finally, let's drop all rows that do not have price data:"
      ]
    },
    {
      "cell_type": "code",
      "metadata": {
        "id": "g8E1GhA0BKVq"
      },
      "source": [
        "# simply drop whole row with NaN in \"price\" column\n",
        "df.dropna(subset=[\"price\"], axis=0, inplace = True)\n",
        "\n",
        "# reset index, because we droped two rows\n",
        "df.reset_index(drop = True, inplace = True)"
      ],
      "execution_count": null,
      "outputs": []
    },
    {
      "cell_type": "code",
      "metadata": {
        "id": "JpDl7GJTBKVt"
      },
      "source": [
        "df.head()"
      ],
      "execution_count": null,
      "outputs": []
    },
    {
      "cell_type": "markdown",
      "metadata": {
        "id": "Tkaja3Y2BKVv"
      },
      "source": [
        "**Good!** Now, we obtain the dataset with no missing values."
      ]
    },
    {
      "cell_type": "code",
      "metadata": {
        "id": "jn8M3qyfBKW8"
      },
      "source": [
        "df.to_csv('clean_df.csv')"
      ],
      "execution_count": null,
      "outputs": []
    },
    {
      "cell_type": "markdown",
      "metadata": {
        "id": "2BqZeGL9Ci4V"
      },
      "source": [
        "## TTTC3213 LAB EXERCISE\n",
        "## DATE:\n",
        "## NAME:\n",
        "## MATRIC NO:"
      ]
    },
    {
      "cell_type": "markdown",
      "metadata": {
        "id": "NJfsznW8BKW-"
      },
      "source": [
        "# About the Authors:  \n",
        "\n",
        "This notebook written by [Mahdi Noorian PhD](https://www.linkedin.com/in/mahdi-noorian-58219234/) ,[Joseph Santarcangelo PhD]( https://www.linkedin.com/in/joseph-s-50398b136/), Bahare Talayian, Eric Xiao, Steven Dong, Parizad , Hima Vsudevan and [Fiorella Wenver](https://www.linkedin.com/in/fiorellawever/).\n",
        "Copyright &copy; 2017 [cognitiveclass.ai](cognitiveclass.ai?utm_source=bducopyrightlink&utm_medium=dswb&utm_campaign=bdu). This notebook and its source code are released under the terms of the [MIT License](https://bigdatauniversity.com/mit-license/)."
      ]
    },
    {
      "cell_type": "markdown",
      "metadata": {
        "id": "6zqm8NxSBKW-"
      },
      "source": [
        " <div class=\"alert alert-block alert-info\" style=\"margin-top: 20px\">\n",
        " <a href=\"http://cocl.us/DA0101EN_NotbookLink_bottom\"><img src = \"https://ibm.box.com/shared/static/cy2mwm7519t4z6dxefjpzgtbpi9p8l7h.png\" width = 750, align = \"center\"></a>\n",
        " <h1 align=center><font size = 5> Link</font></h1> "
      ]
    }
  ]
}